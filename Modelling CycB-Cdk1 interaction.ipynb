import matplotlib.pyplot as plt
import numpy as np

x = []
y = []
complex_list = []
fraction_list = []


k = 0.015
KD = 28
Cdk1 = 630 # from Beck et al. 2011


count = 0
CycB_conc_0 = 40
# note this is the total CycB, representing CycB(free) + CycBCdk1

CycB_conc_t = 0

while CycB_conc_t < 300:
    # Calculating [CycB] at time t, fits a single exponential function
    exp = np.exp(k*count)
    CycB_conc_t = CycB_conc_0 * exp

    # Calculating the concentration of [CycB-Cdk1] at time t, given [CycB]t
    term_1 = Cdk1 + CycB_conc_t + KD
    sqrt = np.sqrt((term_1**2) - 4*Cdk1*CycB_conc_t)
    CycBCdk1 = (term_1 - sqrt)/2

    complex_list.append(CycBCdk1)
    count += 1
    x.append(count)
    y.append(CycB_conc_t)

fraction_list = np.true_divide(complex_list,y)

# Plotting the results
fig, ax1 = plt.subplots(figsize=(8, 8))
plt.xlabel("Time")
plt.ylabel("Concentration (nM)")
ax2 = ax1.twinx()
plt.ylabel("Complex fraction")
ax1.plot(x, y)
ax1.plot(x, complex_list, color= "red", linewidth= 2)
ax2.plot(x, fraction_list, color= "orange")

fig.legend(["CycB", "CycB-Cdk1","Complex Fraction"], loc ="best")

plt.show()
